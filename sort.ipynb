{
 "cells": [
  {
   "cell_type": "code",
   "execution_count": 1,
   "metadata": {},
   "outputs": [],
   "source": [
    "\n",
    "# # 選択ソート\n",
    "# target = [10, 2, 5, 8, 1, 4, 3, 7, 9, 6]\n",
    "\n",
    "# def selection_sort_show(lst):\n",
    "#     print(\"選択ソート (selection sort) / O(n^2) ~ O(n^2)\")\n",
    "#     for i in range(len(lst)):\n",
    "#         tmin, tloc = 10 ** 18, -1 # データの初期化\n",
    "#         for j in range(i, len(lst)):\n",
    "\n",
    "#             # 現在の最小値より小さい値が見つかったとき\n",
    "#             # 最も小さい値とその場所を更新する\n",
    "#             if lst[j] < tmin:\n",
    "#                 tmin = lst[j]\n",
    "#                 tloc = j\n",
    "\n",
    "#         # ループが終了したら入れ替える\n",
    "#         lst[i], lst[tloc] = lst[tloc], lst[i]\n",
    "#         print(\"loop {}. {}\".format(str(i + 1).zfill(2), lst))\n",
    "\n",
    "# selection_sort_show(target)"
   ]
  },
  {
   "cell_type": "code",
   "execution_count": 2,
   "metadata": {},
   "outputs": [
    {
     "name": "stdout",
     "output_type": "stream",
     "text": [
      "簡易版クイックソート (quick sort) / O(nlogn) ~ O(n^2)\n",
      "Loop 1. [2, 1, 4, 3, 5, 8, 7, 9] pivot. 5\n",
      "Loop 2. [1, 2, 4, 3, 5, 8, 7, 9] pivot. 2\n",
      "Loop 3. [1, 2, 4, 3, 5, 7, 8, 9] pivot. 8\n",
      "Loop 4. [1, 2, 3, 4, 5, 7, 8, 9] pivot. 4\n"
     ]
    }
   ],
   "source": [
    "# 簡易版クイックソート\n",
    "from collections import deque\n",
    "\n",
    "target = [5, 8, 2, 1, 7, 4, 9, 3]\n",
    "count = 0\n",
    "que = deque([[0, len(target)]])\n",
    "print(\"簡易版クイックソート (quick sort) / O(nlogn) ~ O(n^2)\")\n",
    "while len(que):\n",
    "    count += 1\n",
    "    q = que.popleft()\n",
    "    if q[0] == q[1]:\n",
    "        continue\n",
    "\n",
    "    pivot = target[q[0]]\n",
    "    lst1 = [x for x in target[q[0] : q[1]] if x < pivot]\n",
    "    lst2 = [x for x in target[q[0] : q[1]] if x == pivot]\n",
    "    lst3 = [x for x in target[q[0] : q[1]] if x > pivot]\n",
    "    target = target[: q[0]] + lst1 + lst2 + lst3 + target[q[1] :]\n",
    "\n",
    "    if 1 < len(lst1):\n",
    "        que.append([q[0], q[0] + len(lst1)])\n",
    "    if 1 < len(lst2):\n",
    "        que.append([q[0] + len(lst1), q[0] + len(lst1) + len(lst2)])\n",
    "    if 1 < len(lst3):\n",
    "        que.append([q[0] + len(lst1) + len(lst2), q[1]])\n",
    "\n",
    "    print(\"Loop {}. [{}]\".format(count, \", \".join(map(str, target))), \"pivot.\", pivot)"
   ]
  },
  {
   "cell_type": "code",
   "execution_count": 3,
   "metadata": {},
   "outputs": [
    {
     "name": "stdout",
     "output_type": "stream",
     "text": [
      "マージソート (merge sort) / O(nlogn))\n",
      "Loop 1. [5, 8, 2, 1, 7, 4, 9, 3]\n",
      "Loop 2. [5, 8, 1, 2, 7, 4, 9, 3]\n",
      "Loop 3. [1, 2, 5, 8, 7, 4, 9, 3]\n",
      "Loop 4. [1, 2, 5, 8, 4, 7, 9, 3]\n",
      "Loop 5. [1, 2, 5, 8, 4, 7, 3, 9]\n",
      "Loop 6. [1, 2, 5, 8, 3, 4, 7, 9]\n",
      "Loop 7. [1, 2, 3, 4, 5, 7, 8, 9]\n"
     ]
    }
   ],
   "source": [
    "# マージソート\n",
    "from collections import deque\n",
    "target = [5, 8, 2, 1, 7, 4, 9, 3]\n",
    "marged = [False] * (len(target) + 1)\n",
    "sque = deque([[0, (len(target) + 1) // 2, len(target)]])\n",
    "mque = deque()\n",
    "print(\"マージソート (merge sort) / O(nlogn))\")\n",
    "while len(sque):\n",
    "    snow = sque.popleft()\n",
    "    tque = deque()\n",
    "\n",
    "    if marged[snow[1]-1] and marged[snow[2]-1]:\n",
    "        mque.append(snow)\n",
    "        continue\n",
    "    else:\n",
    "        tque.append(snow)\n",
    "\n",
    "    # 後半\n",
    "    if (snow[2] - snow[1]) < 2:\n",
    "        marged[snow[1]] = True\n",
    "    else:\n",
    "        tque.appendleft(\n",
    "            [snow[1], snow[1] + (snow[2] - snow[1] + 1) // 2, snow[2]])\n",
    "\n",
    "    # 前半\n",
    "    if (snow[1] - snow[0]) < 2:\n",
    "        marged[snow[0]] = True\n",
    "\n",
    "    else:\n",
    "        tque.appendleft(\n",
    "            [snow[0], snow[0] + (snow[1] - snow[0] + 1) // 2, snow[1]])\n",
    "\n",
    "    for _ in range(len(tque)):\n",
    "        s = tque.pop()\n",
    "        sque.appendleft(s)\n",
    "\n",
    "count = 0\n",
    "while len(mque):\n",
    "    count += 1\n",
    "    now = mque.popleft()\n",
    "    t_left = target[now[0]:now[1]]\n",
    "    t_right = target[now[1]:now[2]]\n",
    "    tl = []\n",
    "    j = 0\n",
    "    for i in range(len(t_left)):\n",
    "        for j in range(j, len(t_right)):\n",
    "            if t_left[i] <= t_right[j]:\n",
    "                break\n",
    "\n",
    "            else:\n",
    "                tl.append(t_right[j])\n",
    "                j += 1\n",
    "\n",
    "        tl.append(t_left[i])\n",
    "\n",
    "    for j in range(j, len(t_right)):\n",
    "        tl.append(t_right[j])\n",
    "\n",
    "    target = target[:now[0]] + tl + target[now[2]:]\n",
    "    print(\"Loop {}. [{}]\".format(count, \", \".join(map(str, target))))"
   ]
  }
 ],
 "metadata": {
  "kernelspec": {
   "display_name": "venv",
   "language": "python",
   "name": "python3"
  },
  "language_info": {
   "codemirror_mode": {
    "name": "ipython",
    "version": 3
   },
   "file_extension": ".py",
   "mimetype": "text/x-python",
   "name": "python",
   "nbconvert_exporter": "python",
   "pygments_lexer": "ipython3",
   "version": "3.11.3"
  }
 },
 "nbformat": 4,
 "nbformat_minor": 2
}
