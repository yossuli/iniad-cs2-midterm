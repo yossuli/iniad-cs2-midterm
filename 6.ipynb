{
 "cells": [
  {
   "cell_type": "code",
   "execution_count": 1,
   "metadata": {},
   "outputs": [
    {
     "name": "stdout",
     "output_type": "stream",
     "text": [
      "9 2\n"
     ]
    }
   ],
   "source": [
    "from collections import deque\n",
    "\n",
    "deq = deque([5, 4, 1])\n",
    "\n",
    "s = deq.popleft()\n",
    "# print(s)\n",
    "deq.append(6)\n",
    "deq.append(2)\n",
    "deq.popleft()\n",
    "deq.append(9)\n",
    "deq.popleft()\n",
    "deq.append(3)\n",
    "deq.popleft()\n",
    "deq.append(8)\n",
    "deq.popleft()\n",
    "x = deq.popleft()\n",
    "print(x, len(list(deq)))"
   ]
  }
 ],
 "metadata": {
  "kernelspec": {
   "display_name": "venv",
   "language": "python",
   "name": "python3"
  },
  "language_info": {
   "codemirror_mode": {
    "name": "ipython",
    "version": 3
   },
   "file_extension": ".py",
   "mimetype": "text/x-python",
   "name": "python",
   "nbconvert_exporter": "python",
   "pygments_lexer": "ipython3",
   "version": "3.11.3"
  }
 },
 "nbformat": 4,
 "nbformat_minor": 2
}
