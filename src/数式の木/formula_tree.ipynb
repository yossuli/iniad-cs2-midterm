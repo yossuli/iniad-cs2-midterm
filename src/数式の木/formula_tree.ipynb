{
 "cells": [
  {
   "cell_type": "code",
   "execution_count": 2,
   "metadata": {},
   "outputs": [],
   "source": [
    "from typing import Literal\n",
    "from collections import deque"
   ]
  },
  {
   "cell_type": "markdown",
   "metadata": {},
   "source": [
    "# 数式の木\n",
    "\n",
    "## Node クラス\n",
    "\n",
    "数式の要素を表すノード\n",
    "\n",
    "### メソッド\n",
    "\n",
    "- value: str<br/>\n",
    "  数式の 1 要素\n",
    "\n",
    "- left: Node | None<br/>\n",
    "  演算子の左辺\n",
    "\n",
    "- right: Node | None<br/>\n",
    "  演算子の右辺\n"
   ]
  },
  {
   "cell_type": "code",
   "execution_count": 3,
   "metadata": {},
   "outputs": [],
   "source": [
    "class Node:\n",
    "    def __init__(self, value: str, left=None, right=None) -> None:\n",
    "        self.value: str = value\n",
    "        self.left: Node | None = left\n",
    "        self.right: Node | None = right\n",
    "\n",
    "    def __str__(self) -> str:\n",
    "        return self.value"
   ]
  },
  {
   "cell_type": "markdown",
   "metadata": {},
   "source": [
    "## 関数\n",
    "\n",
    "### ノードにする\n",
    "\n",
    "引数`s: Node | str`を受け取って、`s`が`isinstance(s, Node) >>> True`ならそのまま返し、`False`なら`value`を`s`とする`Node`を返す\n"
   ]
  },
  {
   "cell_type": "code",
   "execution_count": 4,
   "metadata": {},
   "outputs": [],
   "source": [
    "def to_node(s: Node | str) -> Node:\n",
    "    if isinstance(s, Node):\n",
    "        return s\n",
    "    return Node(s)"
   ]
  },
  {
   "cell_type": "markdown",
   "metadata": {},
   "source": [
    "## 関数\n",
    "\n",
    "いずれも数式`formula: str`を受け取り数式の木(Node)にして根のノードを返す\n",
    "\n",
    "### 前置記法(post 関数)\n",
    "\n",
    "後置記法の数式を引数にとり、数式の木にしてその根のノードを返す関数\n",
    "\n",
    "### 後置記法(pre 関数)\n",
    "\n",
    "前置記法の数式を引数にとり、数式の木にしてその根のノードを返す関数\n",
    "\n",
    "### 中置記法(infix 関数)\n",
    "\n",
    "中置記法の数式を引数にとり、数式の木にしてその根のノードを返す関数\n"
   ]
  },
  {
   "cell_type": "code",
   "execution_count": 5,
   "metadata": {},
   "outputs": [],
   "source": [
    "def post(formula: str) -> Node:\n",
    "    formula_deq = deque(formula.split())\n",
    "    stack = []\n",
    "    while len(formula_deq) > 0:\n",
    "        s = formula_deq.popleft()\n",
    "        if s in [\"+\", \"-\", \"*\", \"/\"]:\n",
    "            right = stack.pop()\n",
    "            left = stack.pop()\n",
    "            new_node = Node(s, to_node(left), to_node(right))\n",
    "            stack.append(new_node)\n",
    "        else:\n",
    "            stack.append(s)\n",
    "    return stack[0]\n",
    "\n",
    "\n",
    "def pre(formula: str) -> Node:\n",
    "    formula_list = formula.split()\n",
    "    formula_list.reverse()\n",
    "    stack = []\n",
    "    formula_deq = deque(formula_list)\n",
    "    while len(formula_deq) > 0:\n",
    "        s = formula_deq.popleft()\n",
    "        if s in [\"+\", \"-\", \"*\", \"/\"]:\n",
    "            left = stack.pop()\n",
    "            right = stack.pop()\n",
    "            new_node = Node(s, to_node(left), to_node(right))\n",
    "            stack.append(new_node)\n",
    "        else:\n",
    "            stack.append(s)\n",
    "    return stack[0]\n",
    "\n",
    "\n",
    "def infix(formula: str) -> Node:\n",
    "    order = {\"+\": 2, \"-\": 2, \"*\": 1, \"/\": 1, \"(\": 3}\n",
    "    operator = []\n",
    "    stack = []\n",
    "    for s in formula.replace(\"(\", \" ( \").replace(\")\", \" ) \").split():\n",
    "        if s == \")\":\n",
    "            while True:\n",
    "                t = operator.pop()\n",
    "                if t == \"(\":\n",
    "                    break\n",
    "                stack.append(t)\n",
    "        elif s == \"(\":\n",
    "            operator.append(s)\n",
    "        elif s in [\"+\", \"-\", \"*\", \"/\"]:\n",
    "            while len(operator) > 0:\n",
    "                t = operator.pop()\n",
    "                if order[t] > order[s]:\n",
    "                    operator.append(t)\n",
    "                    break\n",
    "                stack.append(t)\n",
    "                if order[t] == order[s]:\n",
    "                    break\n",
    "            operator.append(s)\n",
    "        else:\n",
    "            stack.append(s)\n",
    "    while len(operator) > 0:\n",
    "        stack.append(operator.pop())\n",
    "    return post(\" \".join(stack))"
   ]
  },
  {
   "cell_type": "markdown",
   "metadata": {},
   "source": [
    "## 関数\n",
    "\n",
    "### make_formula_tree 関数\n",
    "\n",
    "各記法の数式をそれぞれに合った、数式の木にして返す関数を呼び出す関数\n",
    "\n",
    "#### 引数\n",
    "\n",
    "- formula: str<br/>\n",
    "  数式\n",
    "- type: Literal[\"pre\", \"in\", \"post\"]\n",
    "\n",
    "  - 数式の記法\n",
    "  - pre->前置記法\n",
    "  - in->中置記法\n",
    "  - post->後置記法\n",
    "\n",
    "#### 返り値\n",
    "\n",
    "数式の木の根のノード\n"
   ]
  },
  {
   "cell_type": "code",
   "execution_count": 6,
   "metadata": {},
   "outputs": [],
   "source": [
    "def make_formula_tree(formula: str, type: Literal[\"pre\", \"in\", \"post\"]) -> Node:\n",
    "    if type == \"post\":\n",
    "        return post(formula)\n",
    "    if type == \"pre\":\n",
    "        return pre(formula)\n",
    "    return infix(formula)"
   ]
  },
  {
   "cell_type": "markdown",
   "metadata": {},
   "source": [
    "## 関数\n",
    "\n",
    "いずれも数式の木の根`node: Node`を受け取り任意の記法の数式にして返す\n",
    "\n",
    "### 前置記法(return_postorder 関数)\n",
    "\n",
    "数式の根のノードを引数にとり、後置記法の数式を返す関数\n",
    "\n",
    "### 中置記法(return_inorder 関数)\n",
    "\n",
    "数式の根のノードを引数にとり、中置記法の数式を返す関数\n",
    "\n",
    "### 後置記法(return_preorder 関数)\n",
    "\n",
    "数式の根のノードを引数にとり、前置記法の数式を返す関数\n"
   ]
  },
  {
   "cell_type": "code",
   "execution_count": 7,
   "metadata": {},
   "outputs": [],
   "source": [
    "def return_preorder(node: Node):\n",
    "    right = \"\"\n",
    "    left = \"\"\n",
    "    if node.left is not None:\n",
    "        left = return_preorder(node.left)\n",
    "    if node.right is not None:\n",
    "        right = return_preorder(node.right)\n",
    "    return f\"{node.value} {left} {right}\"\n",
    "\n",
    "\n",
    "def return_inorder(node: Node):\n",
    "    right = \"\"\n",
    "    left = \"\"\n",
    "    if node.value == \"*\":\n",
    "        if node.left is not None:\n",
    "            if node.left.value in [\"+\", \"-\"]:\n",
    "                left = f\"( {return_inorder(node.left)} ) \"\n",
    "            else:\n",
    "                left = return_inorder(node.left)\n",
    "        if node.right is not None:\n",
    "            if node.right.value in [\"+\", \"-\"]:\n",
    "                right = f\"( {return_inorder(node.right)} ) \"\n",
    "            else:\n",
    "                right = return_inorder(node.right)\n",
    "    elif node.value == \"/\":\n",
    "        if node.left is not None:\n",
    "            if node.left.value in [\"+\", \"-\", \"*\", \"/\"]:\n",
    "                left = f\"( {return_inorder(node.left)} ) \"\n",
    "            else:\n",
    "                left = return_inorder(node.left)\n",
    "        if node.right is not None:\n",
    "            if node.right.value in [\"+\", \"-\", \"*\", \"/\"]:\n",
    "                right = f\"( {return_inorder(node.right)} ) \"\n",
    "            else:\n",
    "                right = return_inorder(node.right)\n",
    "    else:\n",
    "        if node.left is not None:\n",
    "            left = return_inorder(node.left)\n",
    "        if node.right is not None:\n",
    "            right = return_inorder(node.right)\n",
    "    return f\"{left} {node.value} {right}\"\n",
    "\n",
    "\n",
    "def return_postorder(node: Node):\n",
    "    right = \"\"\n",
    "    left = \"\"\n",
    "    if node.left is not None:\n",
    "        left = return_postorder(node.left)\n",
    "    if node.right is not None:\n",
    "        right = return_postorder(node.right)\n",
    "    return f\"{left} {right} {node.value}\""
   ]
  },
  {
   "cell_type": "markdown",
   "metadata": {},
   "source": [
    "## 関数\n",
    "\n",
    "### change_formula_type 関数\n",
    "\n",
    "各記法の数式を任意の記法の数式に変換する関数\n",
    "\n",
    "#### 引数\n",
    "\n",
    "- formula: str<br/>\n",
    "  数式\n",
    "\n",
    "- expected_type: Literal[\"pre\", \"in\", \"post\"]<br/>\n",
    "  変換後の数式の記法\n",
    "  - pre->前置記法\n",
    "  - in->中置記法\n",
    "  - post->後置記法\n",
    "\n",
    "#### 返り値\n",
    "\n",
    "変換後の数式\n"
   ]
  },
  {
   "cell_type": "code",
   "execution_count": 8,
   "metadata": {},
   "outputs": [],
   "source": [
    "def change_formula_type(\n",
    "    formula: str, expected_type: Literal[\"pre\", \"in\", \"post\"]\n",
    ") -> str:\n",
    "    type: Literal[\"pre\", \"in\", \"post\"]\n",
    "    if formula[0] in [\"+\", \"-\", \"*\", \"/\"]:\n",
    "        type = \"pre\"\n",
    "    elif formula[len(formula) - 1] in [\"+\", \"-\", \"*\", \"/\"]:\n",
    "        type = \"post\"\n",
    "    else:\n",
    "        type = \"in\"\n",
    "    formula_tree = make_formula_tree(formula, type)\n",
    "    result: str = {\n",
    "        \"pre\": return_preorder,\n",
    "        \"in\": return_inorder,\n",
    "        \"post\": return_postorder,\n",
    "    }[expected_type](formula_tree)\n",
    "    return \" \".join(result.split())"
   ]
  },
  {
   "cell_type": "code",
   "execution_count": 9,
   "metadata": {},
   "outputs": [
    {
     "name": "stdout",
     "output_type": "stream",
     "text": [
      "10 + ( 3 + 4 ) * ( 5 - 2 )\n",
      "+ 10 * + 3 4 - 5 2\n",
      "+ 10 * + 3 4 - 5 2\n",
      "10 3 4 + 5 2 - * +\n"
     ]
    }
   ],
   "source": [
    "print(change_formula_type(\"10 3 4 + 5 2 - * +\", \"in\"))\n",
    "print(change_formula_type(\"10 3 4 + 5 2 - * +\", \"pre\"))\n",
    "print(change_formula_type(\"10 + ( 3 + 4 ) * ( 5 - 2 )\", \"pre\"))\n",
    "print(change_formula_type(\"10 + ( 3 + 4 ) * ( 5 - 2 )\", \"post\"))"
   ]
  },
  {
   "cell_type": "code",
   "execution_count": 10,
   "metadata": {},
   "outputs": [
    {
     "name": "stdout",
     "output_type": "stream",
     "text": [
      "7 2 - 3 2 + * 2 3 * +\n",
      "3 * 4 + ( 1 + 2 ) * ( 8 - 6 )\n"
     ]
    }
   ],
   "source": [
    "print(change_formula_type(\"(7 - 2) * (3 + 2) + 2 * 3\", \"post\"))\n",
    "print(change_formula_type(\"+ * 3 4 * + 1 2 - 8 6\", \"in\"))"
   ]
  }
 ],
 "metadata": {
  "kernelspec": {
   "display_name": "venv",
   "language": "python",
   "name": "python3"
  },
  "language_info": {
   "codemirror_mode": {
    "name": "ipython",
    "version": 3
   },
   "file_extension": ".py",
   "mimetype": "text/x-python",
   "name": "python",
   "nbconvert_exporter": "python",
   "pygments_lexer": "ipython3",
   "version": "3.11.3"
  }
 },
 "nbformat": 4,
 "nbformat_minor": 2
}
