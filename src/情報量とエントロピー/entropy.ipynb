{
 "cells": [
  {
   "cell_type": "markdown",
   "metadata": {},
   "source": [
    "# 情報量とエントロピー\n",
    "\n",
    "## 関数\n",
    "\n",
    "両方の関数ともに、引数`r`を渡すと四捨五入してくれる\n",
    "\n",
    "### 情報量 (info_mount 関数)\n",
    "\n",
    "確率を引数にとり、その確率の情報量を返す関数。\n",
    "\n",
    "### エントロピー (entropy 関数)\n",
    "\n",
    "確率のリストを引数にとり、その確率のエントロピーを返す関数。\n"
   ]
  },
  {
   "cell_type": "code",
   "execution_count": 1,
   "metadata": {},
   "outputs": [],
   "source": [
    "import math\n",
    "from typing import Optional\n"
   ]
  },
  {
   "cell_type": "code",
   "execution_count": 2,
   "metadata": {},
   "outputs": [],
   "source": [
    "def info_mount(p: float, r: Optional[int] = None) -> float:\n",
    "    if r is None:\n",
    "        return -math.log2(p)\n",
    "    return round(-math.log2(p), r)\n",
    "\n",
    "\n",
    "def entropy(ps: list[float], r: int = 3) -> float:\n",
    "    return round(sum([p * info_mount(p) for p in ps]), r)\n"
   ]
  },
  {
   "cell_type": "markdown",
   "metadata": {},
   "source": [
    "## 使用例\n"
   ]
  },
  {
   "cell_type": "code",
   "execution_count": 3,
   "metadata": {},
   "outputs": [
    {
     "data": {
      "text/plain": [
       "2.32"
      ]
     },
     "execution_count": 3,
     "metadata": {},
     "output_type": "execute_result"
    }
   ],
   "source": [
    "info_mount(1 / 5, 2)\n"
   ]
  },
  {
   "cell_type": "code",
   "execution_count": 4,
   "metadata": {},
   "outputs": [
    {
     "data": {
      "text/plain": [
       "0.72"
      ]
     },
     "execution_count": 4,
     "metadata": {},
     "output_type": "execute_result"
    }
   ],
   "source": [
    "entropy([1 / 5, 4 / 5], 2)\n"
   ]
  },
  {
   "cell_type": "markdown",
   "metadata": {},
   "source": [
    "---\n"
   ]
  }
 ],
 "metadata": {
  "kernelspec": {
   "display_name": ".venv",
   "language": "python",
   "name": "python3"
  },
  "language_info": {
   "codemirror_mode": {
    "name": "ipython",
    "version": 3
   },
   "file_extension": ".py",
   "mimetype": "text/x-python",
   "name": "python",
   "nbconvert_exporter": "python",
   "pygments_lexer": "ipython3",
   "version": "3.12.0"
  }
 },
 "nbformat": 4,
 "nbformat_minor": 2
}
