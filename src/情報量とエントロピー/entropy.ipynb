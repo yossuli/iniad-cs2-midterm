{
 "cells": [
  {
   "cell_type": "code",
   "execution_count": 1,
   "metadata": {},
   "outputs": [],
   "source": [
    "import math\n"
   ]
  },
  {
   "cell_type": "code",
   "execution_count": 2,
   "metadata": {},
   "outputs": [],
   "source": [
    "def info_mount(p: float) -> float:\n",
    "    \"\"\"\n",
    "    確率の情報量を計算する関数\n",
    "\n",
    "    params:\n",
    "    ----------\n",
    "    p: float\n",
    "        確率\n",
    "\n",
    "    return:\n",
    "    ----------\n",
    "    float\n",
    "        確率の情報量\n",
    "    \"\"\"\n",
    "    return -math.log2(p)\n",
    "\n",
    "\n",
    "def entropy(ps: list[float], r: int = 3) -> float:\n",
    "    \"\"\"\n",
    "    エントロピーを計算する関数\n",
    "\n",
    "    params:\n",
    "    ----------\n",
    "    ps: list[float]\n",
    "        確率のリスト\n",
    "\n",
    "    r: int\n",
    "        小数点以下の桁数 (デフォルトは3)\n",
    "\n",
    "    return:\n",
    "    ----------\n",
    "    float\n",
    "        エントロピー\n",
    "    \"\"\"\n",
    "    return round(sum([p * info_mount(p) for p in ps]), r)\n"
   ]
  }
 ],
 "metadata": {
  "kernelspec": {
   "display_name": ".venv",
   "language": "python",
   "name": "python3"
  },
  "language_info": {
   "codemirror_mode": {
    "name": "ipython",
    "version": 3
   },
   "file_extension": ".py",
   "mimetype": "text/x-python",
   "name": "python",
   "nbconvert_exporter": "python",
   "pygments_lexer": "ipython3",
   "version": "3.11.5"
  }
 },
 "nbformat": 4,
 "nbformat_minor": 2
}
