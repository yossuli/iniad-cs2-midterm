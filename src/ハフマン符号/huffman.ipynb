{
 "cells": [
  {
   "cell_type": "code",
   "execution_count": 2,
   "metadata": {},
   "outputs": [],
   "source": [
    "from fractions import Fraction\n",
    "import heapq"
   ]
  },
  {
   "cell_type": "markdown",
   "metadata": {},
   "source": [
    "# ハフマン符号\n",
    "\n",
    "## Node クラス\n",
    "\n",
    "出現した文字の関係性を表すノード\n",
    "\n",
    "### メソッド\n",
    "\n",
    "- character: str<br/>\n",
    "  出現した文字(または子に含まれる文字(識別用))\n",
    "\n",
    "- probability: float<br/>\n",
    "  出現した文字(または子に含まれる文字(識別用))の出現回数\n",
    "\n",
    "- left: Node | None<br/>\n",
    "  左の子\n",
    "\n",
    "- right: Node | None<br/>\n",
    "  右の子\n"
   ]
  },
  {
   "cell_type": "code",
   "execution_count": 3,
   "metadata": {},
   "outputs": [],
   "source": [
    "class Node:\n",
    "    def __init__(self, character: str, probability: float, left, right) -> None:\n",
    "        self.character = character\n",
    "        self.probability = probability\n",
    "        self.left: Node | None = left\n",
    "        self.right: Node | None = right\n",
    "\n",
    "    def __lt__(self, other):\n",
    "        return self.probability < other.probability"
   ]
  },
  {
   "cell_type": "markdown",
   "metadata": {},
   "source": [
    "## 関数\n",
    "\n",
    "### to_bit 関数\n",
    "\n",
    "いい感じにハフマン符号化してくれる関数\n"
   ]
  },
  {
   "cell_type": "code",
   "execution_count": 4,
   "metadata": {},
   "outputs": [],
   "source": [
    "def to_bit(node: Node, bit: str, bits: dict[str, str]):\n",
    "    if node.left is None and node.right is None:\n",
    "        bits[node.character] = bit\n",
    "    if node.left is not None:\n",
    "        to_bit(node.left, bit + \"1\", bits)\n",
    "    if node.right is not None:\n",
    "        to_bit(node.right, bit + \"0\", bits)"
   ]
  },
  {
   "cell_type": "markdown",
   "metadata": {},
   "source": [
    "### encode 関数\n",
    "\n",
    "1. 文字列`string`を受け取る\n",
    "2. 含まれる文字をカウントする\n",
    "3. ハフマン符号用の木にする\n",
    "4. 木を解析して、それぞれの文字を符号にする\n",
    "5. 文字列(`string`)をエンコードして返す\n"
   ]
  },
  {
   "cell_type": "code",
   "execution_count": 5,
   "metadata": {},
   "outputs": [
    {
     "name": "stdout",
     "output_type": "stream",
     "text": [
      "各文字の出現頻度: {'G': 12, 'C': 10, 'T': 5, 'A': 3}\n",
      "各文字の出現確率:\n",
      "'G': 2/5\n",
      "'C': 1/3\n",
      "'T': 1/6\n",
      "'A': 1/10\n",
      "文字のビット表現: {'G': '1', 'A': '011', 'T': '010', 'C': '00'}\n",
      "符号化されたビット列の長さ: 56\n",
      "11000011100100110101100010000110010000010101001101101000\n"
     ]
    }
   ],
   "source": [
    "def encode(string: str):\n",
    "    dictionary: dict[str, int] = {}\n",
    "    total_chars = len(string)\n",
    "    for s in string:\n",
    "        if s in dictionary:\n",
    "            dictionary[s] += 1\n",
    "        else:\n",
    "            dictionary[s] = 1\n",
    "    print(\"各文字の出現頻度:\", dictionary)\n",
    "    print(\"各文字の出現確率:\")\n",
    "    for char, freq in dictionary.items():\n",
    "        print(f\"'{char}': {Fraction(freq, total_chars)}\")\n",
    "    nodes: list[Node] = []\n",
    "    heapq.heapify(nodes)\n",
    "    for s in dictionary:\n",
    "        heapq.heappush(nodes, Node(s, dictionary[s], None, None))\n",
    "    while len(nodes) > 1:\n",
    "        left = heapq.heappop(nodes)\n",
    "        right = heapq.heappop(nodes)\n",
    "        new_node = Node(\n",
    "            left.character + right.character,\n",
    "            left.probability + right.probability,\n",
    "            left,\n",
    "            right,\n",
    "        )\n",
    "        heapq.heappush(nodes, new_node)\n",
    "    top = heapq.heappop(nodes)\n",
    "    bits: dict[str, str] = {}\n",
    "    to_bit(top, \"\", bits)\n",
    "    print(\"文字のビット表現:\", bits)\n",
    "    result: str = \"\"\n",
    "    for s in string:\n",
    "        result += bits[s]\n",
    "    print(\"符号化されたビット列の長さ:\", len(result))\n",
    "    return result\n",
    "\n",
    "\n",
    "# 実行例\n",
    "print(encode(\"GGCCGGGCGCGGTGGCTCACGCCTGTAATC\"))"
   ]
  }
 ],
 "metadata": {
  "kernelspec": {
   "display_name": "venv",
   "language": "python",
   "name": "python3"
  },
  "language_info": {
   "codemirror_mode": {
    "name": "ipython",
    "version": 3
   },
   "file_extension": ".py",
   "mimetype": "text/x-python",
   "name": "python",
   "nbconvert_exporter": "python",
   "pygments_lexer": "ipython3",
   "version": "3.11.3"
  }
 },
 "nbformat": 4,
 "nbformat_minor": 2
}
