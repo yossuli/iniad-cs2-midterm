{
 "cells": [
  {
   "cell_type": "markdown",
   "metadata": {},
   "source": [
    "# ハフマン符号\n",
    "\n",
    "### huffman 関数\n",
    "\n",
    "1. 文字列`string`を受け取る\n",
    "2. 含まれる文字をカウントして出現頻度を`print`する\n",
    "3. ハフマン符号用の木にする\n",
    "4. 木を解析して、それぞれの文字を符号にして`print`する\n",
    "5. 文字列(`string`)をエンコードして返す\n",
    "\n",
    "### 追加機能\n",
    "\n",
    "この機能については **特に** 動作の保証はありません\n",
    "\n",
    "1. 文字列`string`、割り当てられた文字と割り当てられた符号のタプル`assign`を受け取る\n",
    "2. 含まれる文字をカウントして出現頻度を`print`する\n",
    "3. ハフマン符号用の木にする\n",
    "4. 木を解析して、それぞれの文字を符号にする\n",
    "5. 割り当てられた文字と割り当てられた符号のタプル`assign`をもとに符号を改変して`print`する\n",
    "6. 文字列(`string`)をエンコードして返す\n"
   ]
  },
  {
   "cell_type": "code",
   "execution_count": 1,
   "metadata": {},
   "outputs": [],
   "source": [
    "from fractions import Fraction\n",
    "import heapq\n",
    "from typing import Optional\n",
    "\n",
    "\n",
    "class Node:\n",
    "    def __init__(self, character: str, probability: float, left, right) -> None:\n",
    "        self.character = character\n",
    "        self.probability = probability\n",
    "        self.left: Node | None = left\n",
    "        self.right: Node | None = right\n",
    "\n",
    "    def __lt__(self, other):\n",
    "        return self.probability < other.probability\n",
    "\n",
    "\n",
    "def to_bit(node: Node, bit: str, bits: dict[str, str]):\n",
    "    if node.left is None and node.right is None:\n",
    "        bits[node.character] = bit\n",
    "    if node.left is not None:\n",
    "        to_bit(node.left, bit + \"1\", bits)\n",
    "    if node.right is not None:\n",
    "        to_bit(node.right, bit + \"0\", bits)\n",
    "\n",
    "\n",
    "def huffman(string: str, assign: Optional[tuple[str, str]] = None):\n",
    "    dictionary: dict[str, int] = {}\n",
    "    total_chars = len(string)\n",
    "    for s in string:\n",
    "        if s in dictionary:\n",
    "            dictionary[s] += 1\n",
    "        else:\n",
    "            dictionary[s] = 1\n",
    "    print(\"各文字の出現頻度:\", dictionary)\n",
    "    print(\"各文字の出現確率:\")\n",
    "    for char, freq in dictionary.items():\n",
    "        print(f\"'{char}': {Fraction(freq, total_chars)}\")\n",
    "    nodes: list[Node] = []\n",
    "    heapq.heapify(nodes)\n",
    "    for s in dictionary:\n",
    "        heapq.heappush(nodes, Node(s, dictionary[s], None, None))\n",
    "    while len(nodes) > 1:\n",
    "        left = heapq.heappop(nodes)\n",
    "        right = heapq.heappop(nodes)\n",
    "        new_node = Node(\n",
    "            left.character + right.character,\n",
    "            left.probability + right.probability,\n",
    "            left,\n",
    "            right,\n",
    "        )\n",
    "        heapq.heappush(nodes, new_node)\n",
    "    top = heapq.heappop(nodes)\n",
    "    bits: dict[str, str] = {}\n",
    "    to_bit(top, \"\", bits)\n",
    "    if assign != None:\n",
    "        tmp = str(int(bits[assign[0]]) ^ int(assign[1]))\n",
    "        for char, freq in bits.items():\n",
    "            bits[char] = (\n",
    "                \"0\" * (len(freq) - 1)\n",
    "                + bin(int(freq, 2) ^ (int(tmp, 2) >> (len(tmp) - len(freq))))[2:]\n",
    "            )\n",
    "        print(\"文字のビット表現:\", bits)\n",
    "    else:\n",
    "        print(\"文字のビット表現:\", bits)\n",
    "    result: str = \"\"\n",
    "    for s in string:\n",
    "        result += bits[s]\n",
    "    return result"
   ]
  },
  {
   "cell_type": "markdown",
   "metadata": {},
   "source": [
    "### 使用例\n"
   ]
  },
  {
   "cell_type": "code",
   "execution_count": 2,
   "metadata": {},
   "outputs": [
    {
     "name": "stdout",
     "output_type": "stream",
     "text": [
      "各文字の出現頻度: {'A': 16, 'C': 2, 'G': 1, 'T': 1}\n",
      "各文字の出現確率:\n",
      "'A': 4/5\n",
      "'C': 1/10\n",
      "'G': 1/20\n",
      "'T': 1/20\n",
      "文字のビット表現: {'C': '11', 'G': '101', 'T': '100', 'A': '0'}\n",
      "00000000000000001111101100\n",
      "各文字の出現頻度: {'A': 16, 'C': 2, 'G': 1, 'T': 1}\n",
      "各文字の出現確率:\n",
      "'A': 4/5\n",
      "'C': 1/10\n",
      "'G': 1/20\n",
      "'T': 1/20\n",
      "文字のビット表現: {'C': '01', 'G': '001', 'T': '000', 'A': '1'}\n",
      "0.65\n"
     ]
    }
   ],
   "source": [
    "string = \"AAAAAAAAAAAAAAAACCGT\"\n",
    "\n",
    "print(huffman(string))\n",
    "print(len(huffman(string, (\"T\", \"000\"))) / (len(string) * 2))"
   ]
  }
 ],
 "metadata": {
  "kernelspec": {
   "display_name": "venv",
   "language": "python",
   "name": "python3"
  },
  "language_info": {
   "codemirror_mode": {
    "name": "ipython",
    "version": 3
   },
   "file_extension": ".py",
   "mimetype": "text/x-python",
   "name": "python",
   "nbconvert_exporter": "python",
   "pygments_lexer": "ipython3",
   "version": "3.10.12"
  }
 },
 "nbformat": 4,
 "nbformat_minor": 2
}
