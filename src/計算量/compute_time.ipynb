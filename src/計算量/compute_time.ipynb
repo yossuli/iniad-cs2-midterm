{
 "cells": [
  {
   "cell_type": "code",
   "execution_count": 1,
   "metadata": {},
   "outputs": [],
   "source": [
    "from typing import Literal\n",
    "import math"
   ]
  },
  {
   "cell_type": "markdown",
   "metadata": {},
   "source": [
    "# 計算量\n",
    "\n",
    "## 関数\n",
    "\n",
    "### compute_time 関数\n",
    "\n",
    "実行時間を計算量ごとに算出するする関数\n",
    "\n",
    "#### 引数\n",
    "\n",
    "- order: Literal[\"1\", \"logn\", \"n\", \"nlogn\", \"n^a\", \"a^n\"]<br/>\n",
    "  計算量\n",
    "- length1: int<br/>\n",
    "  実行済みのリストの長さ\n",
    "- time: int<br/>\n",
    "  計測済みの実行時間\n",
    "- length2: int<br/>\n",
    "  実行するリストの長さ\n",
    "- option = 2<br/>\n",
    "  冪指数, 基数を指定。デフォルトは 2\n",
    "\n",
    "#### 返り値\n",
    "\n",
    "実行したときの実行時間\n"
   ]
  },
  {
   "cell_type": "code",
   "execution_count": 2,
   "metadata": {},
   "outputs": [],
   "source": [
    "def compute_time(\n",
    "    order: Literal[\"1\", \"logn\", \"n\", \"nlogn\", \"n^a\", \"a^n\"],\n",
    "    length1: int,\n",
    "    time: int,\n",
    "    length2: int,\n",
    "    option=2,\n",
    ") -> float | None:\n",
    "    if order == \"1\":\n",
    "        return time\n",
    "    if order == \"logn\":\n",
    "        return time * (math.log2(length2) / math.log2(length1))\n",
    "    if order == \"n\":\n",
    "        return time * (length2 / length1)\n",
    "    if order == \"nlogn\":\n",
    "        return time * ((length2 * math.log2(length2)) / (length1 * math.log2(length1)))\n",
    "    if order == \"n^a\":\n",
    "        return time * (length2**option / length1**option)\n",
    "    if order == \"a^n\":\n",
    "        return time * (option**length2 / option**length1)"
   ]
  },
  {
   "cell_type": "code",
   "execution_count": 3,
   "metadata": {},
   "outputs": [
    {
     "data": {
      "text/plain": [
       "6.0"
      ]
     },
     "execution_count": 3,
     "metadata": {},
     "output_type": "execute_result"
    }
   ],
   "source": [
    "compute_time(\"logn\", 10000, 4, 1000000)"
   ]
  },
  {
   "cell_type": "code",
   "execution_count": 4,
   "metadata": {},
   "outputs": [
    {
     "data": {
      "text/plain": [
       "2.0000000000000004"
      ]
     },
     "execution_count": 4,
     "metadata": {},
     "output_type": "execute_result"
    }
   ],
   "source": [
    "compute_time('nlogn', 250000, 2000, 500)"
   ]
  }
 ],
 "metadata": {
  "kernelspec": {
   "display_name": "venv",
   "language": "python",
   "name": "python3"
  },
  "language_info": {
   "codemirror_mode": {
    "name": "ipython",
    "version": 3
   },
   "file_extension": ".py",
   "mimetype": "text/x-python",
   "name": "python",
   "nbconvert_exporter": "python",
   "pygments_lexer": "ipython3",
   "version": "3.11.3"
  }
 },
 "nbformat": 4,
 "nbformat_minor": 2
}
