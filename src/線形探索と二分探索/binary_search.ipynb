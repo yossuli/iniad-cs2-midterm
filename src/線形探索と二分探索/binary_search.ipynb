{
 "cells": [
  {
   "cell_type": "markdown",
   "metadata": {},
   "source": [
    "# 二分探索\n",
    "\n",
    "## 関数\n",
    "\n",
    "### 探索 (binary search)\n",
    "\n",
    "リストと探索したい値を引数として渡すと、リストの中に値があれば`True`を返す関数\n",
    "\n",
    "### インデックス (binary_search_index)\n",
    "\n",
    "リストと探索したい値を引数として渡すと、リストの中に値があればそのインデックスを返す関数\n",
    "\n",
    "### 比較回数 (binary_search_count)\n",
    "\n",
    "リストと探索したい値を引数として渡すと、二分探索を行いその際の比較回数を返す関数\n",
    "\n",
    "### 比較対象 (binary_search_compared)\n",
    "\n",
    "リストと探索したい値を引数として渡すと、二分探索を行いその際に比較した対象を返す関数\n"
   ]
  },
  {
   "cell_type": "code",
   "execution_count": 1,
   "metadata": {},
   "outputs": [],
   "source": [
    "def binary_search(lst: list[int], target: int) -> bool:\n",
    "    start, end = 0, len(lst)\n",
    "\n",
    "    while start < end:\n",
    "        mid = start + (end - start) // 2\n",
    "        if lst[mid] == target:\n",
    "            return True\n",
    "        elif lst[mid] > target:\n",
    "            end = mid\n",
    "        else:\n",
    "            start = mid + 1\n",
    "    return False\n",
    "\n",
    "\n",
    "def binary_search_index(lst: list[int], target: int) -> int:\n",
    "    start, end = 0, len(lst)\n",
    "\n",
    "    while start < end:\n",
    "        mid = start + (end - start) // 2\n",
    "        if lst[mid] == target:\n",
    "            return mid\n",
    "        elif lst[mid] > target:\n",
    "            end = mid\n",
    "        else:\n",
    "            start = mid + 1\n",
    "    return -1\n",
    "\n",
    "\n",
    "def binary_search_count(lst: list[int], target: int) -> int:\n",
    "    count = 0\n",
    "    start, end = 0, len(lst)\n",
    "\n",
    "    while start < end:\n",
    "        count += 1\n",
    "        mid = start + (end - start) // 2\n",
    "        if lst[mid] == target:\n",
    "            return count\n",
    "        elif lst[mid] > target:\n",
    "            end = mid\n",
    "        else:\n",
    "            start = mid + 1\n",
    "    return count\n",
    "\n",
    "\n",
    "def binary_search_compared(lst: list[int], target: int) -> str:\n",
    "    compared: list[int] = []\n",
    "    start, end = 0, len(lst)\n",
    "\n",
    "    while start < end:\n",
    "        mid = start + (end - start) // 2\n",
    "        compared.append(lst[mid])\n",
    "        if lst[mid] == target:\n",
    "            break\n",
    "        elif lst[mid] > target:\n",
    "            end = mid\n",
    "        else:\n",
    "            start = mid + 1\n",
    "    return \", \".join(map(str, compared))\n"
   ]
  },
  {
   "cell_type": "markdown",
   "metadata": {},
   "source": [
    "## 使用例\n"
   ]
  },
  {
   "cell_type": "code",
   "execution_count": 2,
   "metadata": {},
   "outputs": [],
   "source": [
    "lst = [9, 10, 25, 27, 43, 55, 77, 78, 90, 95]\n",
    "target = 95\n"
   ]
  },
  {
   "cell_type": "code",
   "execution_count": 3,
   "metadata": {},
   "outputs": [
    {
     "data": {
      "text/plain": [
       "True"
      ]
     },
     "execution_count": 3,
     "metadata": {},
     "output_type": "execute_result"
    }
   ],
   "source": [
    "binary_search(lst, target)\n"
   ]
  },
  {
   "cell_type": "code",
   "execution_count": 4,
   "metadata": {},
   "outputs": [
    {
     "data": {
      "text/plain": [
       "9"
      ]
     },
     "execution_count": 4,
     "metadata": {},
     "output_type": "execute_result"
    }
   ],
   "source": [
    "binary_search_index(lst, target)\n"
   ]
  },
  {
   "cell_type": "code",
   "execution_count": 5,
   "metadata": {},
   "outputs": [
    {
     "data": {
      "text/plain": [
       "3"
      ]
     },
     "execution_count": 5,
     "metadata": {},
     "output_type": "execute_result"
    }
   ],
   "source": [
    "binary_search_count(lst, target)\n"
   ]
  },
  {
   "cell_type": "code",
   "execution_count": 6,
   "metadata": {},
   "outputs": [
    {
     "data": {
      "text/plain": [
       "'55, 90, 95'"
      ]
     },
     "execution_count": 6,
     "metadata": {},
     "output_type": "execute_result"
    }
   ],
   "source": [
    "binary_search_compared(lst, target)\n"
   ]
  },
  {
   "cell_type": "markdown",
   "metadata": {},
   "source": [
    "---\n"
   ]
  }
 ],
 "metadata": {
  "kernelspec": {
   "display_name": "Python 3",
   "language": "python",
   "name": "python3"
  },
  "language_info": {
   "codemirror_mode": {
    "name": "ipython",
    "version": 3
   },
   "file_extension": ".py",
   "mimetype": "text/x-python",
   "name": "python",
   "nbconvert_exporter": "python",
   "pygments_lexer": "ipython3",
   "version": "3.12.0"
  }
 },
 "nbformat": 4,
 "nbformat_minor": 2
}
