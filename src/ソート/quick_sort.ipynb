{
 "cells": [
  {
   "cell_type": "markdown",
   "metadata": {},
   "source": [
    "# クイックソート\n",
    "\n",
    "## 関数\n",
    "\n",
    "### ソート (quick_sort)\n",
    "\n",
    "リストを引数にとり、クイックソートを行う。\n",
    "\n",
    "### ソートの過程を表示 (quick_sort_process)\n",
    "\n",
    "ソートの過程を表示する。`option = True`で要素の分割を`()`でくくって表示する\n",
    "\n",
    "### 交換回数のカウント (quick_sort_count_swap)\n",
    "\n",
    "クイックソートをする際の交換回数をカウントする。\n"
   ]
  },
  {
   "cell_type": "code",
   "execution_count": 1,
   "metadata": {},
   "outputs": [],
   "source": [
    "from collections import deque\n",
    "\n",
    "import math"
   ]
  },
  {
   "cell_type": "code",
   "execution_count": 2,
   "metadata": {},
   "outputs": [],
   "source": [
    "def quick_sort(l: list[int]) -> list[int]:\n",
    "    lst = l.copy()\n",
    "\n",
    "    if len(lst) <= 1:\n",
    "        return lst\n",
    "\n",
    "    pivot = lst[0]\n",
    "    left = [x for x in lst if x < pivot]\n",
    "    middle = [x for x in lst if x == pivot]\n",
    "    right = [x for x in lst if x > pivot]\n",
    "\n",
    "    return quick_sort(left) + middle + quick_sort(right)\n",
    "\n",
    "\n",
    "def quick_sort_process(l: list[int], option: bool = False) -> None:\n",
    "    lst = deque([l.copy()])\n",
    "\n",
    "    while any(map(lambda x: len(x) > 1, lst)):\n",
    "        pivot = math.inf\n",
    "        for i in range(len(lst)):\n",
    "            l = lst.popleft()\n",
    "            if pivot == math.inf and len(l) > 1:\n",
    "                pivot = l[0]\n",
    "                left = [x for x in l if x < pivot]\n",
    "                middle = [x for x in l if x == pivot]\n",
    "                right = [x for x in l if x > pivot]\n",
    "                for x in [left, middle, right]:\n",
    "                    if len(x) > 0:\n",
    "                        lst.append(x)\n",
    "            else:\n",
    "                lst.append(l)\n",
    "        if option:\n",
    "            print(\n",
    "                \", \".join(map(lambda x: \"(\" + \", \".join(map(str, x)) + \")\", lst)),\n",
    "                \"| pivot\",\n",
    "                pivot,\n",
    "            )\n",
    "        else:\n",
    "            print(\n",
    "                \", \".join(map(lambda x: \", \".join(map(str, x)), lst)), \"| pivot\", pivot\n",
    "            )\n",
    "\n",
    "\n",
    "def quick_sort_count_swap(l: list[int]) -> int:\n",
    "    lst = l.copy()\n",
    "\n",
    "    if len(lst) <= 1:\n",
    "        return 0\n",
    "\n",
    "    pivot = lst[0]\n",
    "    left = [x for x in lst if x < pivot]\n",
    "    middle = [x for x in lst if x == pivot]\n",
    "    right = [x for x in lst if x > pivot]\n",
    "\n",
    "    return 1 + quick_sort_count_swap(left) + quick_sort_count_swap(right)"
   ]
  },
  {
   "cell_type": "markdown",
   "metadata": {},
   "source": [
    "## 使用例\n"
   ]
  },
  {
   "cell_type": "code",
   "execution_count": 3,
   "metadata": {},
   "outputs": [],
   "source": [
    "lst = [3, 8, 2, 9, 1, 7, 4, 6, 5]"
   ]
  },
  {
   "cell_type": "code",
   "execution_count": 4,
   "metadata": {},
   "outputs": [
    {
     "data": {
      "text/plain": [
       "[1, 2, 3, 4, 5, 6, 7, 8, 9]"
      ]
     },
     "execution_count": 4,
     "metadata": {},
     "output_type": "execute_result"
    }
   ],
   "source": [
    "quick_sort(lst)"
   ]
  },
  {
   "cell_type": "code",
   "execution_count": 5,
   "metadata": {},
   "outputs": [
    {
     "name": "stdout",
     "output_type": "stream",
     "text": [
      "2, 1, 3, 8, 9, 7, 4, 6, 5 | pivot 3\n",
      "1, 2, 3, 8, 9, 7, 4, 6, 5 | pivot 2\n",
      "1, 2, 3, 7, 4, 6, 5, 8, 9 | pivot 8\n",
      "1, 2, 3, 4, 6, 5, 7, 8, 9 | pivot 7\n",
      "1, 2, 3, 4, 6, 5, 7, 8, 9 | pivot 4\n",
      "1, 2, 3, 4, 5, 6, 7, 8, 9 | pivot 6\n"
     ]
    }
   ],
   "source": [
    "quick_sort_process(lst)"
   ]
  },
  {
   "cell_type": "code",
   "execution_count": 6,
   "metadata": {},
   "outputs": [
    {
     "name": "stdout",
     "output_type": "stream",
     "text": [
      "(2, 1), (3), (8, 9, 7, 4, 6, 5) | pivot 3\n",
      "(1), (2), (3), (8, 9, 7, 4, 6, 5) | pivot 2\n",
      "(1), (2), (3), (7, 4, 6, 5), (8), (9) | pivot 8\n",
      "(1), (2), (3), (4, 6, 5), (7), (8), (9) | pivot 7\n",
      "(1), (2), (3), (4), (6, 5), (7), (8), (9) | pivot 4\n",
      "(1), (2), (3), (4), (5), (6), (7), (8), (9) | pivot 6\n"
     ]
    }
   ],
   "source": [
    "quick_sort_process(lst, True)"
   ]
  },
  {
   "cell_type": "code",
   "execution_count": 7,
   "metadata": {},
   "outputs": [
    {
     "data": {
      "text/plain": [
       "6"
      ]
     },
     "execution_count": 7,
     "metadata": {},
     "output_type": "execute_result"
    }
   ],
   "source": [
    "quick_sort_count_swap(lst)"
   ]
  },
  {
   "cell_type": "markdown",
   "metadata": {},
   "source": [
    "---\n"
   ]
  }
 ],
 "metadata": {
  "kernelspec": {
   "display_name": "Python 3",
   "language": "python",
   "name": "python3"
  },
  "language_info": {
   "codemirror_mode": {
    "name": "ipython",
    "version": 3
   },
   "file_extension": ".py",
   "mimetype": "text/x-python",
   "name": "python",
   "nbconvert_exporter": "python",
   "pygments_lexer": "ipython3",
   "version": "3.10.12"
  }
 },
 "nbformat": 4,
 "nbformat_minor": 2
}
