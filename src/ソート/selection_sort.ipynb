{
 "cells": [
  {
   "cell_type": "markdown",
   "metadata": {},
   "source": [
    "# 選択ソート\n",
    "\n",
    "## 関数\n",
    "\n",
    "### ソート (selection_sort)\n",
    "\n",
    "リストを引数にとり、選択ソートを行う。\n",
    "\n",
    "### ソートの過程を表示 (selection_sort_process)\n",
    "\n",
    "ソートの過程を表示する。\n"
   ]
  },
  {
   "cell_type": "code",
   "execution_count": 1,
   "metadata": {},
   "outputs": [],
   "source": [
    "def selection_sort(l: list[int]) -> list[int]:\n",
    "    lst = l.copy()\n",
    "    length = len(lst)\n",
    "    for i in range(length):\n",
    "        minpos = i\n",
    "        for j in range(i + 1, length):\n",
    "            if lst[j] < lst[minpos]:\n",
    "                minpos = j\n",
    "        if i != minpos:\n",
    "            lst[i], lst[minpos] = lst[minpos], lst[i]\n",
    "    return lst\n",
    "\n",
    "\n",
    "def selection_sort_process(l: list[int]) -> None:\n",
    "    lst = l.copy()\n",
    "    length = len(lst)\n",
    "    for i in range(length):\n",
    "        print(\", \".join(map(str, lst)))\n",
    "        minpos = i\n",
    "        for j in range(i + 1, length):\n",
    "            if lst[j] < lst[minpos]:\n",
    "                minpos = j\n",
    "        if i != minpos:\n",
    "            lst[i], lst[minpos] = lst[minpos], lst[i]\n"
   ]
  },
  {
   "cell_type": "markdown",
   "metadata": {},
   "source": [
    "## 使用例\n"
   ]
  },
  {
   "cell_type": "code",
   "execution_count": 2,
   "metadata": {},
   "outputs": [],
   "source": [
    "lst = [42, 54, 32, 64, 21, 24, 58, 90]\n"
   ]
  },
  {
   "cell_type": "code",
   "execution_count": 3,
   "metadata": {},
   "outputs": [
    {
     "data": {
      "text/plain": [
       "[21, 24, 32, 42, 54, 58, 64, 90]"
      ]
     },
     "execution_count": 3,
     "metadata": {},
     "output_type": "execute_result"
    }
   ],
   "source": [
    "selection_sort(lst)\n"
   ]
  },
  {
   "cell_type": "code",
   "execution_count": 4,
   "metadata": {},
   "outputs": [
    {
     "name": "stdout",
     "output_type": "stream",
     "text": [
      "42, 54, 32, 64, 21, 24, 58, 90\n",
      "21, 54, 32, 64, 42, 24, 58, 90\n",
      "21, 24, 32, 64, 42, 54, 58, 90\n",
      "21, 24, 32, 64, 42, 54, 58, 90\n",
      "21, 24, 32, 42, 64, 54, 58, 90\n",
      "21, 24, 32, 42, 54, 64, 58, 90\n",
      "21, 24, 32, 42, 54, 58, 64, 90\n",
      "21, 24, 32, 42, 54, 58, 64, 90\n"
     ]
    }
   ],
   "source": [
    "selection_sort_process(lst)\n"
   ]
  },
  {
   "cell_type": "markdown",
   "metadata": {},
   "source": [
    "---\n"
   ]
  }
 ],
 "metadata": {
  "kernelspec": {
   "display_name": "Python 3",
   "language": "python",
   "name": "python3"
  },
  "language_info": {
   "codemirror_mode": {
    "name": "ipython",
    "version": 3
   },
   "file_extension": ".py",
   "mimetype": "text/x-python",
   "name": "python",
   "nbconvert_exporter": "python",
   "pygments_lexer": "ipython3",
   "version": "3.10.12"
  }
 },
 "nbformat": 4,
 "nbformat_minor": 2
}
