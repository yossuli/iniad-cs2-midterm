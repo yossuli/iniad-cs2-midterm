{
 "cells": [
  {
   "cell_type": "markdown",
   "metadata": {},
   "source": [
    "# マージソート\n",
    "\n",
    "## 関数\n",
    "\n",
    "### ソート (merge_sort)\n",
    "\n",
    "リストを引数にとり、マージソートを行う。\n",
    "\n",
    "### マージの過程を表示 (merge_sort_process)\n",
    "\n",
    "マージの過程を表示する。`option = True`で要素の分割を`()`でくくって表示する\n"
   ]
  },
  {
   "cell_type": "code",
   "execution_count": 23,
   "metadata": {},
   "outputs": [],
   "source": [
    "def separate_list(lst: list) -> list:\n",
    "    len_lst = len(lst)\n",
    "    if len_lst < 2:\n",
    "        return lst\n",
    "    return [separate_list(l) for l in [lst[0: len_lst // 2], lst[len_lst // 2:]]]\n",
    "\n",
    "\n",
    "def merge(left: list[int], right: list[int], result: list[int]) -> list[int]:\n",
    "    i = 0\n",
    "    j = 0\n",
    "    while (i < len(left)) and (j < len(right)):\n",
    "        if left[i] <= right[j]:\n",
    "            result.append(left[i])\n",
    "            i += 1\n",
    "        else:\n",
    "            result.append(right[j])\n",
    "            j += 1\n",
    "    while i < len(left):\n",
    "        result.append(left[i])\n",
    "        i += 1\n",
    "    while j < len(right):\n",
    "        result.append(right[j])\n",
    "        j += 1\n",
    "    return result\n",
    "\n",
    "\n",
    "def merge_sort(lst: list[int]) -> list[int]:\n",
    "    if len(lst) <= 1:\n",
    "        return lst\n",
    "    list1 = lst[0: len(lst) // 2]\n",
    "    list2 = lst[len(lst) // 2:]\n",
    "    sorted_list1 = merge_sort(list1)\n",
    "    sorted_list2 = merge_sort(list2)\n",
    "    return merge(sorted_list1, sorted_list2, [])\n",
    "\n",
    "\n",
    "def merge_sort_precess(lst, option: bool = False):\n",
    "    separated = separate_list(lst)\n",
    "    tmp = separated\n",
    "    while not all([isinstance(s, int) for s in separated]):\n",
    "        if all(\n",
    "            [isinstance(t, list) and all([isinstance(u, int)\n",
    "                                          for u in t]) for t in tmp]\n",
    "        ):\n",
    "            left = tmp[0].copy()\n",
    "            right = tmp[1].copy()\n",
    "            tmp.clear()\n",
    "            merge(left, right, tmp)\n",
    "            if not option:\n",
    "                print(str(separated).replace(\"[\", \"\").replace(\"]\", \"\"))\n",
    "            else:\n",
    "                print(\n",
    "                    \"(\"\n",
    "                    + \"), \".join(\n",
    "                        \" \".join(\n",
    "                            str(separated).replace(\n",
    "                                \" \", \"\").replace(\"[\", \" \").split()\n",
    "                        )\n",
    "                        .replace(\" \", \"(\")\n",
    "                        .replace(\"]\", \" \")\n",
    "                        .replace(\" ,\", \" \")\n",
    "                        .split()\n",
    "                    )\n",
    "                    + \")\"\n",
    "                )\n",
    "            tmp = separated\n",
    "        else:\n",
    "            if all([isinstance(t, int) for t in tmp[0]]):\n",
    "                tmp = tmp[1]\n",
    "            else:\n",
    "                tmp = tmp[0]"
   ]
  },
  {
   "cell_type": "markdown",
   "metadata": {},
   "source": [
    "## 使用例\n"
   ]
  },
  {
   "cell_type": "code",
   "execution_count": 24,
   "metadata": {},
   "outputs": [],
   "source": [
    "lst = [5, 2, 7, 8, 6, 4, 9, 1, 3]"
   ]
  },
  {
   "cell_type": "code",
   "execution_count": 25,
   "metadata": {},
   "outputs": [
    {
     "data": {
      "text/plain": [
       "[1, 2, 3, 4, 5, 6, 7, 8, 9]"
      ]
     },
     "execution_count": 25,
     "metadata": {},
     "output_type": "execute_result"
    }
   ],
   "source": [
    "merge_sort(lst)"
   ]
  },
  {
   "cell_type": "code",
   "execution_count": 26,
   "metadata": {},
   "outputs": [
    {
     "name": "stdout",
     "output_type": "stream",
     "text": [
      "2, 5, 7, 8, 6, 4, 9, 1, 3\n",
      "2, 5, 7, 8, 6, 4, 9, 1, 3\n",
      "2, 5, 7, 8, 6, 4, 9, 1, 3\n",
      "2, 5, 7, 8, 4, 6, 9, 1, 3\n",
      "2, 5, 7, 8, 4, 6, 9, 1, 3\n",
      "2, 5, 7, 8, 4, 6, 1, 3, 9\n",
      "2, 5, 7, 8, 1, 3, 4, 6, 9\n",
      "1, 2, 3, 4, 5, 6, 7, 8, 9\n"
     ]
    }
   ],
   "source": [
    "merge_sort_precess(lst)"
   ]
  },
  {
   "cell_type": "code",
   "execution_count": 27,
   "metadata": {},
   "outputs": [
    {
     "name": "stdout",
     "output_type": "stream",
     "text": [
      "(2,5), (7), (8), (6), (4), (9), (1), (3)\n",
      "(2,5), (7,8), (6), (4), (9), (1), (3)\n",
      "(2,5,7,8), (6), (4), (9), (1), (3)\n",
      "(2,5,7,8), (4,6), (9), (1), (3)\n",
      "(2,5,7,8), (4,6), (9), (1,3)\n",
      "(2,5,7,8), (4,6), (1,3,9)\n",
      "(2,5,7,8), (1,3,4,6,9)\n",
      "(1,2,3,4,5,6,7,8,9)\n"
     ]
    }
   ],
   "source": [
    "merge_sort_precess(lst, True)"
   ]
  }
 ],
 "metadata": {
  "kernelspec": {
   "display_name": "venv",
   "language": "python",
   "name": "python3"
  },
  "language_info": {
   "codemirror_mode": {
    "name": "ipython",
    "version": 3
   },
   "file_extension": ".py",
   "mimetype": "text/x-python",
   "name": "python",
   "nbconvert_exporter": "python",
   "pygments_lexer": "ipython3",
   "version": "3.11.3"
  }
 },
 "nbformat": 4,
 "nbformat_minor": 2
}
