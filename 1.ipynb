{
 "cells": [
  {
   "cell_type": "code",
   "execution_count": null,
   "metadata": {},
   "outputs": [],
   "source": [
    "class Node:\n",
    "    def __init__(self, value):\n",
    "        self.value = value\n",
    "        self.next = None\n",
    "    def __str__(self):\n",
    "        return str(self.value)\n",
    "\n",
    "def print_list(top):\n",
    "    print('<', end='')\n",
    "    node = top\n",
    "    while node is not None:\n",
    "        print(node, end=\", \")\n",
    "        node = node.next\n",
    "    print('>')\n",
    "\n",
    "def insert(prev, x):\n",
    "    new_node = Node(x)\n",
    "    new_node.next = prev.next\n",
    "    prev.next = new_node\n",
    "    return new_node\n",
    "\n",
    "def create_list(n):\n",
    "    top = Node(0)\n",
    "    for i in range(1, n):\n",
    "        insert(top, n - i)\n",
    "    return top\n",
    "\n",
    "def get_bottom(top):\n",
    "    node = top\n",
    "    while __(a)__ is not None:\n",
    "        __(b)__\n",
    "    return node\n",
    "\n",
    "for i in range(10000, 50001, 10000):\n",
    "    lst = __(c)__\n",
    "    __(d)__\n"
   ]
  }
 ],
 "metadata": {
  "language_info": {
   "name": "python"
  }
 },
 "nbformat": 4,
 "nbformat_minor": 2
}
