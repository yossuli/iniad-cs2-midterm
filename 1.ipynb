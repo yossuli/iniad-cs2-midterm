{
 "cells": [
  {
   "cell_type": "code",
   "execution_count": 1,
   "metadata": {},
   "outputs": [
    {
     "data": {
      "text/plain": [
       "<__main__.Node at 0x7f8609b9bb10>"
      ]
     },
     "execution_count": 1,
     "metadata": {},
     "output_type": "execute_result"
    }
   ],
   "source": [
    "class Node:\n",
    "    def __init__(self, value):\n",
    "        self.value = value\n",
    "        self.next = None\n",
    "\n",
    "    def __str__(self):\n",
    "        return str(self.value)\n",
    "\n",
    "\n",
    "def print_list(top):\n",
    "    print(\"<\", end=\"\")\n",
    "    node = top\n",
    "    while node is not None:\n",
    "        print(node, end=\", \")\n",
    "        node = node.next\n",
    "    print(\">\")\n",
    "\n",
    "\n",
    "def insert(prev, x):\n",
    "    new_node = Node(x)\n",
    "    new_node.next = prev.next\n",
    "    prev.next = new_node\n",
    "    return new_node\n",
    "\n",
    "\n",
    "def create_list(n):\n",
    "    top = Node(0)\n",
    "    for i in range(1, n):\n",
    "        insert(top, n - i)\n",
    "    return top\n",
    "\n",
    "\n",
    "def get_bottom(top):\n",
    "    node = top\n",
    "    while node.next is not None:\n",
    "        node = node.next\n",
    "    return node\n",
    "\n",
    "\n",
    "get_bottom(create_list(5))\n",
    "\n",
    "for i in range(10000, 50001, 10000):\n",
    "    lst = create_list(i)\n",
    "    %timeit get_bottom(lst)"
   ]
  }
 ],
 "metadata": {
  "kernelspec": {
   "display_name": "venv",
   "language": "python",
   "name": "python3"
  },
  "language_info": {
   "codemirror_mode": {
    "name": "ipython",
    "version": 3
   },
   "file_extension": ".py",
   "mimetype": "text/x-python",
   "name": "python",
   "nbconvert_exporter": "python",
   "pygments_lexer": "ipython3",
   "version": "3.11.3"
  }
 },
 "nbformat": 4,
 "nbformat_minor": 2
}
